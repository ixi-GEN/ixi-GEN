{
 "cells": [
  {
   "cell_type": "markdown",
   "id": "540ea119",
   "metadata": {},
   "source": [
    "# 1. Import Required Libraries"
   ]
  },
  {
   "cell_type": "code",
   "execution_count": null,
   "id": "06eaa7a6",
   "metadata": {
    "vscode": {
     "languageId": "plaintext"
    }
   },
   "outputs": [],
   "source": [
    "import json\n",
    "import boto3\n",
    "import sagemaker\n",
    "\n",
    "from sagemaker import ModelPackage\n",
    "from sagemaker import get_execution_role"
   ]
  },
  {
   "cell_type": "markdown",
   "id": "987f6544",
   "metadata": {},
   "source": [
    "# 2. Define Model Configuration and Regional ARNs"
   ]
  },
  {
   "cell_type": "code",
   "execution_count": null,
   "id": "7bd17832",
   "metadata": {
    "vscode": {
     "languageId": "plaintext"
    }
   },
   "outputs": [],
   "source": [
    "MODEL_PACKAGE_NAME = \"ixi-gen-fin-7-8b-250922-v1-8334fd8fe98b3f09b910aa799cfa11cc\"\n",
    "\n",
    "MODEL_PACKAGE_MAP = {\n",
    "    \"us-east-1\": f\"arn:aws:sagemaker:us-east-1:865070037744:model-package/{MODEL_PACKAGE_NAME}\",\n",
    "    \"us-east-2\": f\"arn:aws:sagemaker:us-east-2:057799348421:model-package/{MODEL_PACKAGE_NAME}\",\n",
    "    \"us-west-2\": f\"arn:aws:sagemaker:us-west-2:594846645681:model-package/{MODEL_PACKAGE_NAME}\",\n",
    "    \"ca-central-1\": f\"arn:aws:sagemaker:ca-central-1:470592106596:model-package/{MODEL_PACKAGE_NAME}\",\n",
    "    \"eu-central-1\": f\"arn:aws:sagemaker:eu-central-1:446921602837:model-package/{MODEL_PACKAGE_NAME}\",\n",
    "    \"eu-west-1\": f\"arn:aws:sagemaker:eu-west-1:985815980388:model-package/{MODEL_PACKAGE_NAME}\",\n",
    "    \"eu-west-2\": f\"arn:aws:sagemaker:eu-west-2:856760150666:model-package/{MODEL_PACKAGE_NAME}\",\n",
    "    \"eu-west-3\": f\"arn:aws:sagemaker:eu-west-3:843114510376:model-package/{MODEL_PACKAGE_NAME}\",\n",
    "    \"eu-north-1\": f\"arn:aws:sagemaker:eu-north-1:136758871317:model-package/{MODEL_PACKAGE_NAME}\",\n",
    "    \"ap-southeast-1\": f\"arn:aws:sagemaker:ap-southeast-1:192199979996:model-package/{MODEL_PACKAGE_NAME}\",\n",
    "    \"ap-southeast-2\": f\"arn:aws:sagemaker:ap-southeast-2:666831318237:model-package/{MODEL_PACKAGE_NAME}\",\n",
    "    \"ap-northeast-2\": f\"arn:aws:sagemaker:ap-northeast-2:745090734665:model-package/{MODEL_PACKAGE_NAME}\",\n",
    "    \"ap-northeast-1\": f\"arn:aws:sagemaker:ap-northeast-1:977537786026:model-package/{MODEL_PACKAGE_NAME}\",\n",
    "    \"ap-south-1\": f\"arn:aws:sagemaker:ap-south-1:077584701553:model-package/{MODEL_PACKAGE_NAME}\",\n",
    "    \"sa-east-1\": f\"arn:aws:sagemaker:sa-east-1:270155090741:model-package/{MODEL_PACKAGE_NAME}\",\n",
    "}\n",
    "\n",
    "MODEL_NAME = \"ixi-gen-fin-7-8b- 250922-v1\""
   ]
  },
  {
   "cell_type": "markdown",
   "id": "5dd9458d",
   "metadata": {},
   "source": [
    "# 3. Initialize Session and Validate Region"
   ]
  },
  {
   "cell_type": "code",
   "execution_count": null,
   "id": "187fc944",
   "metadata": {
    "vscode": {
     "languageId": "plaintext"
    }
   },
   "outputs": [],
   "source": [
    "role = get_execution_role()\n",
    "sagemaker_session = sagemaker.Session()\n",
    "region = sagemaker_session.boto_region_name\n",
    "\n",
    "if region not in MODEL_PACKAGE_MAP.keys():\n",
    "    raise Exception(f\"Current boto3 session region {region} is not supported.\")"
   ]
  },
  {
   "cell_type": "markdown",
   "id": "dc058061",
   "metadata": {},
   "source": [
    "# 4. Load and Deploy Model from Marketplace"
   ]
  },
  {
   "cell_type": "code",
   "execution_count": null,
   "id": "9fd4eac8",
   "metadata": {
    "vscode": {
     "languageId": "plaintext"
    }
   },
   "outputs": [],
   "source": [
    "model_pack_arn = MODEL_PACKAGE_MAP[region]\n",
    "model = ModelPackage(\n",
    "    role=role,\n",
    "    model_package_arn=model_pack_arn,\n",
    "    sagemaker_session=sagemaker_session\n",
    ")\n",
    "\n",
    "print(f\"role: {role}\")\n",
    "print(f\"region: {region}\")\n",
    "print(f\"model package arn: {model_pack_arn}\")\n",
    "\n",
    "model.deploy(\n",
    "    initial_instance_count=1,\n",
    "    instance_type='ml.g5.4xlarge',\n",
    "    endpoint_name=sagemaker.utils.name_from_base(MODEL_NAME),\n",
    "    model_data_download_timeout=600,\n",
    "    container_startup_health_check_timeout=300,\n",
    ")\n",
    "\n",
    "print(f\"endpoint name: {model.endpoint_name}\")"
   ]
  },
  {
   "cell_type": "markdown",
   "id": "5264e02e",
   "metadata": {},
   "source": [
    "# 5. Run Inference on Deployed Endpoint"
   ]
  },
  {
   "cell_type": "code",
   "execution_count": null,
   "id": "2a75f053",
   "metadata": {
    "vscode": {
     "languageId": "plaintext"
    }
   },
   "outputs": [],
   "source": [
    "sagemaker_runtime = boto3.client('sagemaker-runtime', region_name=region)\n",
    "\n",
    "prompt = \"who are you?\"\n",
    "\n",
    "request_data = {\n",
    "    \"messages\": [\n",
    "        {\"role\": \"user\", \"content\": prompt}\n",
    "    ],\n",
    "    \"max_tokens\": 8192,\n",
    "    \"temperature\": 0.0,\n",
    "    \"repetition_penalty\": 1.0,\n",
    "}\n",
    "\n",
    "response = sagemaker_runtime.invoke_endpoint(\n",
    "    EndpointName=model.endpoint_name,\n",
    "    ContentType=\"application/json\",\n",
    "    Accept=\"application/json\",\n",
    "    Body=json.dumps(request_data),\n",
    ")\n",
    "\n",
    "result = response['Body'].read().decode('utf-8')\n",
    "print(\"response:\", result)"
   ]
  },
  {
   "cell_type": "markdown",
   "id": "0243f3b3",
   "metadata": {},
   "source": [
    "# 6.Clean Up Resources"
   ]
  },
  {
   "cell_type": "code",
   "execution_count": null,
   "id": "50306206",
   "metadata": {
    "vscode": {
     "languageId": "plaintext"
    }
   },
   "outputs": [],
   "source": [
    "model.sagemaker_session.delete_endpoint(model.endpoint_name)\n",
    "model.sagemaker_session.delete_endpoint_config(model.endpoint_name)\n",
    "model.delete_model()"
   ]
  }
 ],
 "metadata": {
  "language_info": {
   "name": "python"
  }
 },
 "nbformat": 4,
 "nbformat_minor": 5
}
